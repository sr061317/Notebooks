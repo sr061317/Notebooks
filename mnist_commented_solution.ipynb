{
  "nbformat": 4,
  "nbformat_minor": 0,
  "metadata": {
    "colab": {
      "name": "mnist-commented-solution.ipynb",
      "provenance": [],
      "collapsed_sections": [],
      "include_colab_link": true
    },
    "kernelspec": {
      "name": "python3",
      "display_name": "Python 3"
    },
    "accelerator": "GPU"
  },
  "cells": [
    {
      "cell_type": "markdown",
      "metadata": {
        "id": "view-in-github",
        "colab_type": "text"
      },
      "source": [
        "<a href=\"https://colab.research.google.com/github/sr061317/Notebooks/blob/master/mnist_commented_solution.ipynb\" target=\"_parent\"><img src=\"https://colab.research.google.com/assets/colab-badge.svg\" alt=\"Open In Colab\"/></a>"
      ]
    },
    {
      "cell_type": "markdown",
      "metadata": {
        "id": "4Pb7pbcw_mu3",
        "colab_type": "text"
      },
      "source": [
        "#### Importieren der Libraries"
      ]
    },
    {
      "cell_type": "code",
      "metadata": {
        "id": "BYKdhdArMixR",
        "colab_type": "code",
        "outputId": "445bec43-d8e4-4ac0-afa6-172255169afe",
        "colab": {
          "base_uri": "https://localhost:8080/",
          "height": 386
        }
      },
      "source": [
        "!pip install deeplearning2020\n",
        "import tensorflow as tf\n",
        "from tensorflow import keras\n",
        "import numpy as np\n",
        "import matplotlib.pyplot as plt\n",
        "from deeplearning2020 import helpers"
      ],
      "execution_count": 0,
      "outputs": [
        {
          "output_type": "stream",
          "text": [
            "Collecting deeplearning2020\n",
            "  Downloading https://files.pythonhosted.org/packages/fe/33/4cb24b085b1dc2a333d7553cc3135bb6ea95384fc685ffc4c17bab41a609/deeplearning2020-0.2.0.tar.gz\n",
            "Collecting kerasltisubmission>=0.3.0\n",
            "\u001b[?25l  Downloading https://files.pythonhosted.org/packages/7e/7b/810826936ce9ff3b05f9b4e2f857a289581b7cabb96d88059194c459ffb1/kerasltisubmission-0.3.0.tar.gz (390kB)\n",
            "\u001b[K     |████████████████████████████████| 399kB 6.9MB/s \n",
            "\u001b[?25hRequirement already satisfied: numpy in /usr/local/lib/python3.6/dist-packages (from kerasltisubmission>=0.3.0->deeplearning2020) (1.17.5)\n",
            "Requirement already satisfied: progressbar2 in /usr/local/lib/python3.6/dist-packages (from kerasltisubmission>=0.3.0->deeplearning2020) (3.38.0)\n",
            "Requirement already satisfied: six in /usr/local/lib/python3.6/dist-packages (from progressbar2->kerasltisubmission>=0.3.0->deeplearning2020) (1.12.0)\n",
            "Requirement already satisfied: python-utils>=2.3.0 in /usr/local/lib/python3.6/dist-packages (from progressbar2->kerasltisubmission>=0.3.0->deeplearning2020) (2.3.0)\n",
            "Building wheels for collected packages: deeplearning2020, kerasltisubmission\n",
            "  Building wheel for deeplearning2020 (setup.py) ... \u001b[?25l\u001b[?25hdone\n",
            "  Created wheel for deeplearning2020: filename=deeplearning2020-0.2.0-py2.py3-none-any.whl size=5954 sha256=26e3974607aeaf4db63d72f6959ee467b62ae2fc8aa127e22e40b814994bae23\n",
            "  Stored in directory: /root/.cache/pip/wheels/d9/62/f9/503c2046ee773650f8c0adf0c068e9caff74755f396e51e200\n",
            "  Building wheel for kerasltisubmission (setup.py) ... \u001b[?25l\u001b[?25hdone\n",
            "  Created wheel for kerasltisubmission: filename=kerasltisubmission-0.3.0-py2.py3-none-any.whl size=6545 sha256=3e4eb4b031cb080b98cf0f593d833dda5c10a5b5a5ba38b742d65dd095e52392\n",
            "  Stored in directory: /root/.cache/pip/wheels/93/36/c1/184c1a6e1434cdc13b829d82c9de948f042d846b88c67646c8\n",
            "Successfully built deeplearning2020 kerasltisubmission\n",
            "Installing collected packages: kerasltisubmission, deeplearning2020\n",
            "Successfully installed deeplearning2020-0.2.0 kerasltisubmission-0.3.0\n"
          ],
          "name": "stdout"
        },
        {
          "output_type": "display_data",
          "data": {
            "text/html": [
              "<p style=\"color: red;\">\n",
              "The default version of TensorFlow in Colab will soon switch to TensorFlow 2.x.<br>\n",
              "We recommend you <a href=\"https://www.tensorflow.org/guide/migrate\" target=\"_blank\">upgrade</a> now \n",
              "or ensure your notebook will continue to use TensorFlow 1.x via the <code>%tensorflow_version 1.x</code> magic:\n",
              "<a href=\"https://colab.research.google.com/notebooks/tensorflow_version.ipynb\" target=\"_blank\">more info</a>.</p>\n"
            ],
            "text/plain": [
              "<IPython.core.display.HTML object>"
            ]
          },
          "metadata": {
            "tags": []
          }
        }
      ]
    },
    {
      "cell_type": "markdown",
      "metadata": {
        "id": "h4yynkUtAh4U",
        "colab_type": "text"
      },
      "source": [
        "#### Laden des MNIST Dataset\n",
        "\n",
        "Als Erstes wollen wir den Datensatz wie im Video \"Laden und Bearbeiten des MNIST Datensatz\" laden."
      ]
    },
    {
      "cell_type": "code",
      "metadata": {
        "id": "HrkKkPW2OIfB",
        "colab_type": "code",
        "outputId": "575a60e2-b3f5-4b55-9543-96e827415d36",
        "colab": {
          "base_uri": "https://localhost:8080/",
          "height": 51
        }
      },
      "source": [
        "data = keras.datasets.mnist\n",
        "(train_images, train_labels), (test_images, test_labels) = data.load_data()"
      ],
      "execution_count": 0,
      "outputs": [
        {
          "output_type": "stream",
          "text": [
            "Downloading data from https://storage.googleapis.com/tensorflow/tf-keras-datasets/mnist.npz\n",
            "11493376/11490434 [==============================] - 1s 0us/step\n"
          ],
          "name": "stdout"
        }
      ]
    },
    {
      "cell_type": "markdown",
      "metadata": {
        "id": "4_E7k74DBJ4_",
        "colab_type": "text"
      },
      "source": [
        "Wir errinnern uns, dass die Pixelwerte noch nicht in normaliserter Form vorliegen. Wir normalisieren diese also zunächst indem wir durch den maximalen Pixelwert 255 teilen:"
      ]
    },
    {
      "cell_type": "code",
      "metadata": {
        "id": "6onrRWeHOV8b",
        "colab_type": "code",
        "colab": {}
      },
      "source": [
        "train_images = train_images / 255.0\n",
        "test_images = test_images / 255.0"
      ],
      "execution_count": 0,
      "outputs": []
    },
    {
      "cell_type": "markdown",
      "metadata": {
        "id": "teAwiBwgBlgr",
        "colab_type": "text"
      },
      "source": [
        "Zuletzt hatten wir noch das Problem, dass die Labels des Datensatzes einfach nur Zahlen waren.\n",
        "- Das Bild der handgeschriebenen 5 hat das Label `5`.\n",
        "- Wir hätten in diesem Fall jedoch gerne den Vektor `[0. 0. 0. 0. 0. 1. 0. 0. 0. 0.]` als Label, welcher der von unserem Netz gewünschten Ausgabe entspricht. Dieser Vektor hat nur an Stelle 5 (beginnend bei 0) eine 1.\n",
        "\n",
        "Für detailliertere Erklärungen sei an dieser Stelle wieder auf das Video \"Laden und Bearbeiten des MNIST Datensatzes\" verwiesen.\n"
      ]
    },
    {
      "cell_type": "code",
      "metadata": {
        "id": "rIKVxQK-C8ii",
        "colab_type": "code",
        "colab": {}
      },
      "source": [
        "total_classes = 10\n",
        "train_vec_labels = keras.utils.to_categorical(train_labels, total_classes)\n",
        "test_vec_labels = keras.utils.to_categorical(test_labels, total_classes)"
      ],
      "execution_count": 0,
      "outputs": []
    },
    {
      "cell_type": "markdown",
      "metadata": {
        "id": "vFp_jgGcDRTl",
        "colab_type": "text"
      },
      "source": [
        "#### Entwurf eines Netzes\n",
        "\n",
        "Nun haben wir die Eingabedaten normalisiert und die Labels als Vektoren vorliegen. Wir können also endlich anfangen ein Netz für die Erkennung der handgeschriebenen Zahlen zu bauen! :)  "
      ]
    },
    {
      "cell_type": "markdown",
      "metadata": {
        "id": "T-KdN4xbuSAT",
        "colab_type": "text"
      },
      "source": [
        "Wir wollen dafür ein sehr einfaches Netz mit 3 Layern definieren (Eingabelayer, Hidden Layer und Ausgabelayer):\n",
        "- Als **Input-Layer** verwenden wir einen `keras.layers.Flatten` Layer, der die 28x28 Matrizen, die wir als Eingaben erhalten auf $28\\cdot 28 = 784$ Neuronen verteilt\n",
        "- Als nächstes verwenden wir für den **Hidden-Layer** einen `keras.layers.Dense` Layer mit 128 Neuronen, wobei wir 128 als eine gute Anzahl empfinden\n",
        "- Als **Output-Layer** verwenden wir einen `keras.layers.Dense` Layer mit 10 Neuronen, da wir 10 Klassen (Ziffern von 0-9) erkennen wollen\n"
      ]
    },
    {
      "cell_type": "code",
      "metadata": {
        "id": "EEvwJtk7Oppm",
        "colab_type": "code",
        "outputId": "5f58ef20-6881-43bf-a558-86b22d62e439",
        "colab": {
          "base_uri": "https://localhost:8080/",
          "height": 88
        }
      },
      "source": [
        "model = keras.Sequential([\n",
        "    keras.layers.Flatten(input_shape=(28, 28)),\n",
        "    keras.layers.Dense(128, activation='sigmoid'), \n",
        "    keras.layers.Dense(10, activation='sigmoid')\n",
        "])"
      ],
      "execution_count": 0,
      "outputs": [
        {
          "output_type": "stream",
          "text": [
            "WARNING:tensorflow:From /usr/local/lib/python3.6/dist-packages/tensorflow_core/python/ops/resource_variable_ops.py:1630: calling BaseResourceVariable.__init__ (from tensorflow.python.ops.resource_variable_ops) with constraint is deprecated and will be removed in a future version.\n",
            "Instructions for updating:\n",
            "If using Keras pass *_constraint arguments to layers.\n"
          ],
          "name": "stdout"
        }
      ]
    },
    {
      "cell_type": "markdown",
      "metadata": {
        "id": "Ii2xQYOQEGZy",
        "colab_type": "text"
      },
      "source": [
        "#### Kompilieren des Netzes\n",
        "\n",
        "Nach dem wir unser Netz definiert haben, müssen wir es *kompilieren*, bevor wir mit dem Training beginnen können.\n",
        "\n",
        "In diesem Schritt legen wir wichtige Parameter für die Trainingsphase fest:\n",
        "- Der **Optimizer** ist der im Training verwendete Lernalgorithmus zur Verbesserung des Netzes. In der letzen Woche haben wir ja bereits *Gradient Descent* und dessen Optimierung *Stochastic Gradient Descent* (SGD, siehe *Deep Dive: Backpropagation*) kennengelernt.\n",
        "- Der **Loss** ist die verwendete Kostenfunktion. Ziel während des Trainings ist es, diese zu minimieren. Wir haben in Woche 1 bereits die Quadratische Fehlerfunktion (*Squared Error*) kennengelernt.\n",
        "- Die **Metrics** sind die während des Trainings ausgewerteten Metrics. Bei allen Klassifikationsproblemen interessiert uns hier die `\"accuracy\"`."
      ]
    },
    {
      "cell_type": "markdown",
      "metadata": {
        "id": "PwbP-ebPhWzu",
        "colab_type": "text"
      },
      "source": [
        "In diesem Beispiel verwenden wir \n",
        "- Den *Stochastic Gradient Descent* (`\"sgd\"`) Lernalgorithmus als unseren Optimizer.\n",
        "- Die `\"mean_squared_error\"` Kostenfunktion, welche im Vergleich zur normalen *Squared Error* Kostenfunktion nicht die Summe, sondern den Mittelwert der Fehler der Ausgabeneuronen berechnet."
      ]
    },
    {
      "cell_type": "code",
      "metadata": {
        "id": "mjC8UAqUOyZ6",
        "colab_type": "code",
        "colab": {}
      },
      "source": [
        "# sgd = keras.optimizers.SGD(lr=0.01, decay=1e-6, momentum=0.9, nesterov=True)\n",
        "model.compile(\n",
        "    optimizer='sgd',\n",
        "    loss='mean_squared_error',\n",
        "    metrics=['accuracy'])"
      ],
      "execution_count": 0,
      "outputs": []
    },
    {
      "cell_type": "markdown",
      "metadata": {
        "id": "5tIC_kvajNM1",
        "colab_type": "text"
      },
      "source": [
        "#### Trainieren des Netzes\n",
        "\n",
        "Jetzt können wir endlich unser Netz tranieren. Dazu verwenden wir die `fit` Methode und übergeben unsere Trainingsbilder als Eingaben mit den dazugehörigen Labels als gewünschte Ausgaben. Die Anzahl der `epochs` gibt an, wie oft das Netz das gesamte Trainingsset zu sehen bekommt. Erhöhen wir die Anzahl der Epochen lassen wir unser Netz länger lernen.  "
      ]
    },
    {
      "cell_type": "code",
      "metadata": {
        "id": "6QDK4o68O71J",
        "colab_type": "code",
        "outputId": "528e5d3e-ef5f-446e-9be1-34c27f7cc18f",
        "colab": {
          "base_uri": "https://localhost:8080/",
          "height": 391
        }
      },
      "source": [
        "model.fit(train_images, train_vec_labels, epochs=10, verbose=True)"
      ],
      "execution_count": 0,
      "outputs": [
        {
          "output_type": "stream",
          "text": [
            "Train on 60000 samples\n",
            "Epoch 1/10\n",
            "60000/60000 [==============================] - 5s 89us/sample - loss: 0.0837 - acc: 0.6504\n",
            "Epoch 2/10\n",
            "60000/60000 [==============================] - 4s 62us/sample - loss: 0.0540 - acc: 0.7919\n",
            "Epoch 3/10\n",
            "60000/60000 [==============================] - 4s 62us/sample - loss: 0.0490 - acc: 0.8167\n",
            "Epoch 4/10\n",
            "60000/60000 [==============================] - 4s 62us/sample - loss: 0.0466 - acc: 0.8276\n",
            "Epoch 5/10\n",
            "60000/60000 [==============================] - 4s 62us/sample - loss: 0.0451 - acc: 0.8338\n",
            "Epoch 6/10\n",
            "60000/60000 [==============================] - 4s 61us/sample - loss: 0.0440 - acc: 0.8382\n",
            "Epoch 7/10\n",
            "60000/60000 [==============================] - 4s 60us/sample - loss: 0.0433 - acc: 0.8412\n",
            "Epoch 8/10\n",
            "60000/60000 [==============================] - 4s 59us/sample - loss: 0.0427 - acc: 0.8429\n",
            "Epoch 9/10\n",
            "60000/60000 [==============================] - 4s 59us/sample - loss: 0.0422 - acc: 0.8451\n",
            "Epoch 10/10\n",
            "60000/60000 [==============================] - 4s 59us/sample - loss: 0.0418 - acc: 0.8462\n"
          ],
          "name": "stdout"
        },
        {
          "output_type": "execute_result",
          "data": {
            "text/plain": [
              "<tensorflow.python.keras.callbacks.History at 0x7f5592dbcf28>"
            ]
          },
          "metadata": {
            "tags": []
          },
          "execution_count": 7
        }
      ]
    },
    {
      "cell_type": "markdown",
      "metadata": {
        "id": "MQDgimiQksZe",
        "colab_type": "text"
      },
      "source": [
        "#### Evaluieren des Netzes\n",
        "\n",
        "Bisher hat das Netz nur Trainingsbilder gesehen und damit gelernt. Ziel ist es aber ja, mit unserem Netz neue Bilder von handgeschriebenen Ziffern zu erkennen. Dafür gibt es ja die Testdaten, mit denen wir unser Netz nun auf die Genauigkeit bei ungesehenen Daten überprüfen wollen."
      ]
    },
    {
      "cell_type": "code",
      "metadata": {
        "id": "zeujdy_fU0rl",
        "colab_type": "code",
        "outputId": "e7044292-ade0-4ca6-b627-40dde5537042",
        "colab": {
          "base_uri": "https://localhost:8080/",
          "height": 34
        }
      },
      "source": [
        "eval_loss, eval_accuracy = model.evaluate(test_images, test_vec_labels, verbose=False)\n",
        "print(\"Model accuracy: %.2f\" % eval_accuracy)"
      ],
      "execution_count": 0,
      "outputs": [
        {
          "output_type": "stream",
          "text": [
            "Model accuracy: 0.85\n"
          ],
          "name": "stdout"
        }
      ]
    },
    {
      "cell_type": "markdown",
      "metadata": {
        "id": "qhJJG4iE7AJG",
        "colab_type": "text"
      },
      "source": [
        "#### Ausgaben des Netzes"
      ]
    },
    {
      "cell_type": "code",
      "metadata": {
        "id": "Vgb2WafA7HJm",
        "colab_type": "code",
        "outputId": "18caa006-d14b-47f3-f64f-a5c41d8f047b",
        "colab": {
          "base_uri": "https://localhost:8080/",
          "height": 699
        }
      },
      "source": [
        "helpers.plot_predictions(model, test_images[:20], labels=test_vec_labels[:20])"
      ],
      "execution_count": 0,
      "outputs": [
        {
          "output_type": "display_data",
          "data": {
            "image/png": "[encoded data removed]",
            "text/plain": [
              "<Figure size 648x864 with 18 Axes>"
            ]
          },
          "metadata": {
            "tags": []
          }
        }
      ]
    }
  ]
}